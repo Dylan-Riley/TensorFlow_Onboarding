{
  "nbformat": 4,
  "nbformat_minor": 0,
  "metadata": {
    "colab": {
      "name": "Tensorflow Onboarding Assignment",
      "provenance": [],
      "collapsed_sections": [],
      "toc_visible": true
    },
    "kernelspec": {
      "display_name": "Python 3",
      "name": "python3"
    }
  },
  "cells": [
    {
      "cell_type": "markdown",
      "metadata": {
        "id": "Zs8iLqBPnNHW"
      },
      "source": [
        "# Tensorflow Onboarding Assignment"
      ]
    },
    {
      "cell_type": "markdown",
      "metadata": {
        "id": "5mJH36txnTj2"
      },
      "source": [
        "https://www.tensorflow.org/tutorials/quickstart/beginner\n",
        "\n",
        "Actuall assignment begins below here:"
      ]
    },
    {
      "cell_type": "markdown",
      "metadata": {
        "id": "vNycXbzXpAkO"
      },
      "source": [
        "https://developers.google.com/machine-learning/glossary#logits"
      ]
    },
    {
      "cell_type": "code",
      "metadata": {
        "id": "0NWIe9JSnWp8"
      },
      "source": [
        "import tensorflow\n",
        "\n",
        "# Load MNIST dataset\n",
        "mnist = tensorflow.keras.datasets.mnist\n",
        "(xTrain, yTrain), (xTest, yTest) = mnist.load_data()\n",
        "xTrain, xTest = xTrain / 255.0, xTest / 255.0\n",
        "\n",
        "# Build keras sequential model\n",
        "model = tensorflow.keras.models.Sequential([\n",
        "  tensorflow.keras.layers.Flatten(input_shape=(28,28)),\n",
        "  tensorflow.keras.layers.Dense(128, activation='relu'),\n",
        "  tensorflow.keras.layers.Dropout(0.2),\n",
        "  tensorflow.keras.layers.Dense(10)\n",
        "])\n",
        "\n",
        "# Logits or log-odds\n",
        "predictions = model(xTrain[:1]).numpy()\n",
        "predictions"
      ],
      "execution_count": null,
      "outputs": []
    },
    {
      "cell_type": "markdown",
      "metadata": {
        "id": "hnDwADdzpZjQ"
      },
      "source": [
        "Output:\n",
        "```\n",
        "array([[-0.03457962, -0.9436625 , -0.22148427, -0.19330877, -0.02459322,\n",
        "        -0.46619663,  0.14027654, -0.35726148,  0.12779313, -0.6115787 ]],\n",
        "      dtype=float32)\n",
        "```"
      ]
    },
    {
      "cell_type": "code",
      "metadata": {
        "id": "yauhANIQpiTC"
      },
      "source": [
        "tensorflow.nn.softmax(predictions).numpy()"
      ],
      "execution_count": null,
      "outputs": []
    },
    {
      "cell_type": "markdown",
      "metadata": {
        "id": "zBDQbFVLpowz"
      },
      "source": [
        "output:\n",
        "```\n",
        "array([[0.11907175, 0.04797325, 0.09877274, 0.10159529, 0.12026681,\n",
        "        0.07733212, 0.14182338, 0.08623227, 0.14006394, 0.06686845]],\n",
        "      dtype=float32)\n",
        "```"
      ]
    },
    {
      "cell_type": "code",
      "metadata": {
        "id": "cfUEKqaYprB0"
      },
      "source": [
        "lossFn = tensorflow.keras.losses.SparseCategoricalCrossentropy(from_logits=True)\n",
        "lossFn(yTrain[:1], predictions).numpy()"
      ],
      "execution_count": null,
      "outputs": []
    },
    {
      "cell_type": "markdown",
      "metadata": {
        "id": "-tVEa_J5qI5Z"
      },
      "source": [
        "Untrained model, probability should be close to random. Expected to be close to `2.3`\n",
        "output:\n",
        "```\n",
        "2.559646\n",
        "```"
      ]
    },
    {
      "cell_type": "code",
      "metadata": {
        "id": "HG_UTjvXqY2Z"
      },
      "source": [
        "model.compile(optimizer='adam', loss=lossFn, metrics=['accuracy'])\n",
        "model.fit(xTrain, yTrain, epochs=5)"
      ],
      "execution_count": null,
      "outputs": []
    },
    {
      "cell_type": "markdown",
      "metadata": {
        "id": "cZbiQHEpq8Vv"
      },
      "source": [
        "output:\n",
        "```\n",
        "Epoch 1/5\n",
        "1875/1875 [==============================] - 4s 2ms/step - loss: 0.2971 - accuracy: 0.9129\n",
        "Epoch 2/5\n",
        "1875/1875 [==============================] - 4s 2ms/step - loss: 0.1431 - accuracy: 0.9566\n",
        "Epoch 3/5\n",
        "1875/1875 [==============================] - 3s 2ms/step - loss: 0.1072 - accuracy: 0.9674\n",
        "Epoch 4/5\n",
        "1875/1875 [==============================] - 3s 2ms/step - loss: 0.0864 - accuracy: 0.9735\n",
        "Epoch 5/5\n",
        "1875/1875 [==============================] - 4s 2ms/step - loss: 0.0751 - accuracy: 0.9766\n",
        "\n",
        "<tensorflow.python.keras.callbacks.History at 0x7f76b841c450>\n",
        "```"
      ]
    },
    {
      "cell_type": "code",
      "metadata": {
        "id": "BBmc6PpjrFzm"
      },
      "source": [
        "model.evaluate(xTest, yTest, verbose=2)"
      ],
      "execution_count": null,
      "outputs": []
    },
    {
      "cell_type": "markdown",
      "metadata": {
        "id": "eWl2jgVnrMJv"
      },
      "source": [
        "Output:\n",
        "```\n",
        "313/313 - 0s - loss: 0.0712 - accuracy: 0.9792\n",
        "[0.07123260200023651, 0.979200005531311]\n",
        "```"
      ]
    },
    {
      "cell_type": "code",
      "metadata": {
        "id": "m1226LibrQAz"
      },
      "source": [
        "probabilityModel = tensorflow.keras.Sequential([model, tensorflow.keras.layers.Softmax()])\n",
        "probabilityModel(xTest[:5])"
      ],
      "execution_count": null,
      "outputs": []
    },
    {
      "cell_type": "markdown",
      "metadata": {
        "id": "S8hBVE-rrgea"
      },
      "source": [
        "Output:\n",
        "```\n",
        "<tf.Tensor: shape=(5, 10), dtype=float32, numpy=\n",
        "array([[4.03490041e-08, 1.65046803e-08, 3.27245516e-06, 1.94969489e-05,\n",
        "        1.55670633e-11, 1.35958282e-06, 3.94158144e-12, 9.99971867e-01,\n",
        "        9.01632063e-07, 2.86395493e-06],\n",
        "       [2.75707112e-06, 8.71449884e-05, 9.99384403e-01, 5.15065098e-04,\n",
        "        5.02042798e-13, 1.27760063e-06, 2.45117224e-08, 6.04167934e-14,\n",
        "        9.25813947e-06, 2.58006572e-12],\n",
        "       [1.85128748e-08, 9.98399675e-01, 1.10141766e-04, 9.78490880e-06,\n",
        "        2.07783414e-05, 1.32908981e-05, 1.77052589e-05, 1.28791248e-03,\n",
        "        1.40457472e-04, 1.66311224e-07],\n",
        "       [9.97735977e-01, 2.34678879e-07, 1.18870237e-04, 1.90825813e-06,\n",
        "        3.32575428e-06, 3.43895335e-05, 2.07656994e-03, 1.57543636e-05,\n",
        "        2.44256648e-06, 1.04833152e-05],\n",
        "       [1.10252779e-06, 5.55624791e-09, 3.76566550e-06, 7.71379234e-07,\n",
        "        9.93223310e-01, 3.26787983e-07, 1.08721606e-05, 1.28094558e-04,\n",
        "        1.15749217e-05, 6.62025064e-03]], dtype=float32)>\n",
        "```"
      ]
    }
  ]
}